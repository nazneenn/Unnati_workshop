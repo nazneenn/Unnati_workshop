{
 "cells": [
  {
   "cell_type": "code",
   "execution_count": 1,
   "id": "5e331162-3982-4709-900c-518978f0916b",
   "metadata": {},
   "outputs": [
    {
     "name": "stdout",
     "output_type": "stream",
     "text": [
      "/home/u185734\n",
      "/home/u185734/Unnati_workshop\n",
      "condaenvsetup.ipynb  denoising.ipynb  README.md\n"
     ]
    }
   ],
   "source": [
    "%cd\n",
    "%cd Unnati_workshop/\n",
    "!ls"
   ]
  },
  {
   "cell_type": "code",
   "execution_count": 2,
   "id": "7b2f9612-f599-40d3-b02c-07318bb40199",
   "metadata": {},
   "outputs": [
    {
     "name": "stdout",
     "output_type": "stream",
     "text": [
      "Writing setupenv.sh\n"
     ]
    }
   ],
   "source": [
    "%%writefile setupenv.sh\n",
    "\n",
    "#Remove old files \n",
    "rm -rf setupenv.sh.*\n",
    "\n",
    "source /opt/intel/oneapi/setvars.sh\n",
    "###################################################################\n",
    "#Create stock tensorflow conda env: \n",
    "conda create -n stock-tensorflow python matplotlib ipykernel psutil pandas gitpython\n",
    "\n",
    "#Activate the created conda env: \n",
    "source activate stock-tensorflow\n",
    "\n",
    "#Install latest stock Tensorflow version:\n",
    "pip install tensorflow-cpu==2.11 \n",
    "\n",
    "pip install tensorflow-hub \n",
    "\n",
    "pip install tensorflow-datasets\n",
    "\n",
    "#upgrade the existing numpy version\n",
    "pip install numpy --upgrade\n",
    "\n",
    "#Deactivate conda env:\n",
    "conda deactivate\n",
    "\n",
    "#Register the kernel to Jupyter NB: \n",
    "~/.conda/envs/stock-tensorflow/bin/python -m ipykernel install --user --name=stock-tensorflow\n",
    "#####################################################################"
   ]
  },
  {
   "cell_type": "code",
   "execution_count": 3,
   "id": "0f4008c0-92c8-4d1c-b877-e1f83ba7023a",
   "metadata": {},
   "outputs": [
    {
     "name": "stdout",
     "output_type": "stream",
     "text": [
      "\n",
      "#Remove old files \n",
      "rm -rf setupenv.sh.*\n",
      "\n",
      "source /opt/intel/oneapi/setvars.sh\n",
      "###################################################################\n",
      "#Create stock tensorflow conda env: \n",
      "conda create -n stock-tensorflow python matplotlib ipykernel psutil pandas gitpython\n",
      "\n",
      "#Activate the created conda env: \n",
      "source activate stock-tensorflow\n",
      "\n",
      "#Install latest stock Tensorflow version:\n",
      "pip install tensorflow-cpu==2.11 \n",
      "\n",
      "pip install tensorflow-hub \n",
      "\n",
      "pip install tensorflow-datasets\n",
      "\n",
      "#upgrade the existing numpy version\n",
      "pip install numpy --upgrade\n",
      "\n",
      "#Deactivate conda env:\n",
      "conda deactivate\n",
      "\n",
      "#Register the kernel to Jupyter NB: \n",
      "~/.conda/envs/stock-tensorflow/bin/python -m ipykernel install --user --name=stock-tensorflow\n",
      "#####################################################################\n"
     ]
    }
   ],
   "source": [
    "!cat setupenv.sh"
   ]
  },
  {
   "cell_type": "code",
   "execution_count": 4,
   "id": "99b3dfad-b2f3-43dc-a8bb-f258fcd42c14",
   "metadata": {},
   "outputs": [
    {
     "name": "stdout",
     "output_type": "stream",
     "text": [
      "2192396.v-qsvr-1.aidevcloud\n"
     ]
    }
   ],
   "source": [
    "!qsub setupenv.sh -l nodes=1:ppn=2 -d ."
   ]
  },
  {
   "cell_type": "code",
   "execution_count": 7,
   "id": "3ae8aed0-b613-401b-9418-97d2b497fae7",
   "metadata": {},
   "outputs": [
    {
     "name": "stdout",
     "output_type": "stream",
     "text": [
      "Job ID                    Name             User            Time Use S Queue\n",
      "------------------------- ---------------- --------------- -------- - -----\n",
      "2192386.v-qsvr-1           ...ub-singleuser u185734         03:28:23 R jupyterhub     \n",
      "2192396.v-qsvr-1           setupenv.sh      u185734         00:00:54 R batch          \n"
     ]
    }
   ],
   "source": [
    "!qstat"
   ]
  },
  {
   "cell_type": "code",
   "execution_count": null,
   "id": "a3936c65-fc95-4fa6-810b-751ee6f43a8b",
   "metadata": {},
   "outputs": [],
   "source": [
    "!grep -e \"Successfully\"  setupenv.sh.o*"
   ]
  },
  {
   "cell_type": "code",
   "execution_count": null,
   "id": "82afcbce-06b9-4ec9-8491-0a2cc79fac58",
   "metadata": {},
   "outputs": [],
   "source": []
  }
 ],
 "metadata": {
  "kernelspec": {
   "display_name": "Python 3 (Intel® oneAPI 2023.0)",
   "language": "python",
   "name": "c009-intel_distribution_of_python_3_oneapi-beta05-python"
  },
  "language_info": {
   "codemirror_mode": {
    "name": "ipython",
    "version": 3
   },
   "file_extension": ".py",
   "mimetype": "text/x-python",
   "name": "python",
   "nbconvert_exporter": "python",
   "pygments_lexer": "ipython3",
   "version": "3.9.15"
  }
 },
 "nbformat": 4,
 "nbformat_minor": 5
}
